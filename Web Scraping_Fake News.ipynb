{
 "cells": [
  {
   "cell_type": "code",
   "execution_count": 18,
   "id": "617b422e",
   "metadata": {},
   "outputs": [],
   "source": [
    "import requests\n",
    "from urllib.request import Request, urlopen\n",
    "from bs4 import BeautifulSoup\n",
    "import pandas as pd"
   ]
  },
  {
   "cell_type": "code",
   "execution_count": 19,
   "id": "baa234e0",
   "metadata": {},
   "outputs": [],
   "source": [
    "# URL of the website to scrape.\n",
    "url = 'https://apnews.com/hub/not-real-news'"
   ]
  },
  {
   "cell_type": "code",
   "execution_count": 20,
   "id": "145fffb2",
   "metadata": {},
   "outputs": [],
   "source": [
    "# Sending a request to the URL with a specific User-Agent header to mimic a web browser.\n",
    "req = Request(url, headers={'User-Agent': 'Mozilla/5.0 (Windows NT 10.0; Win64; x64) AppleWebKit/537.36 (KHTML, like Gecko) Chrome/120.0.0.0 Safari/537.36'})\n",
    "\n",
    "# Opening the URL and reading the webpage content.\n",
    "webpage = urlopen(req).read()"
   ]
  },
  {
   "cell_type": "code",
   "execution_count": 21,
   "id": "b92f9491",
   "metadata": {},
   "outputs": [],
   "source": [
    "# Creating a BeautifulSoup object to parse the webpage content.\n",
    "soup = BeautifulSoup(webpage, 'html.parser')"
   ]
  },
  {
   "cell_type": "code",
   "execution_count": 29,
   "id": "e6c589af",
   "metadata": {},
   "outputs": [],
   "source": [
    "# Initializing an empty list to store text.\n",
    "text = []"
   ]
  },
  {
   "cell_type": "code",
   "execution_count": 30,
   "id": "22c8ddf5",
   "metadata": {},
   "outputs": [],
   "source": [
    "# Iterating through all div elements with class 'PagePromo-description' to extract text.\n",
    "for item in soup.find_all('div', class_='PagePromo-description'):\n",
    "    # Finding the span element with class 'PagePromoContentIcons-text' and extracting its text as title.\n",
    "    title = item.find('span', class_='PagePromoContentIcons-text').get_text()\n",
    "    # Appending the title to the 'titles' list.\n",
    "    text.append(title)"
   ]
  },
  {
   "cell_type": "code",
   "execution_count": 31,
   "id": "25426642",
   "metadata": {},
   "outputs": [],
   "source": [
    "# Creating a DataFrame using the extracted titles.\n",
    "df = pd.DataFrame({\"Text\": text})"
   ]
  },
  {
   "cell_type": "code",
   "execution_count": 33,
   "id": "2086eab4",
   "metadata": {},
   "outputs": [],
   "source": [
    "# Saving the DataFrame to a CSV file named \"text1.csv\" without including the index.\n",
    "df.to_csv(\"text1.csv\", index=False)"
   ]
  },
  {
   "cell_type": "code",
   "execution_count": 34,
   "id": "6c32a32c",
   "metadata": {},
   "outputs": [
    {
     "name": "stdout",
     "output_type": "stream",
     "text": [
      "CSV file created successfully.\n"
     ]
    }
   ],
   "source": [
    "# Printing a message indicating that the CSV file was created successfully.\n",
    "print(\"CSV file created successfully.\")"
   ]
  }
 ],
 "metadata": {
  "kernelspec": {
   "display_name": "Python 3 (ipykernel)",
   "language": "python",
   "name": "python3"
  },
  "language_info": {
   "codemirror_mode": {
    "name": "ipython",
    "version": 3
   },
   "file_extension": ".py",
   "mimetype": "text/x-python",
   "name": "python",
   "nbconvert_exporter": "python",
   "pygments_lexer": "ipython3",
   "version": "3.11.5"
  }
 },
 "nbformat": 4,
 "nbformat_minor": 5
}
